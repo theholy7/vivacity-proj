{
 "cells": [
  {
   "cell_type": "markdown",
   "metadata": {},
   "source": [
    "### Imports"
   ]
  },
  {
   "cell_type": "code",
   "execution_count": 1,
   "metadata": {},
   "outputs": [],
   "source": [
    "import hashlib"
   ]
  },
  {
   "cell_type": "markdown",
   "metadata": {},
   "source": [
    "### Functions"
   ]
  },
  {
   "cell_type": "code",
   "execution_count": 2,
   "metadata": {},
   "outputs": [],
   "source": [
    "def md5_string(word):\n",
    "    return hashlib.md5((\"{}\".format(word)).encode('utf-8')).hexdigest()"
   ]
  },
  {
   "cell_type": "code",
   "execution_count": 3,
   "metadata": {},
   "outputs": [],
   "source": [
    "def correct_n_zeros_in_md5_hash(md5_hash, n):\n",
    "    if n > len(md5_hash):\n",
    "        raise ValueError(\"n bigger than hash\")\n",
    "        \n",
    "    sliced_hash = md5_hash[:n]\n",
    "    for c in sliced_hash:\n",
    "        if not c.isdigit():\n",
    "            return False\n",
    "        if int(c) != 0:\n",
    "            return False\n",
    "    \n",
    "    return True"
   ]
  },
  {
   "cell_type": "code",
   "execution_count": 4,
   "metadata": {},
   "outputs": [],
   "source": [
    "def number_after_zeros_in_md5_hash(md5_hash, n):\n",
    "    if n > len(md5_hash):\n",
    "        raise ValueError(\"n bigger than hash\")\n",
    "        \n",
    "    sliced_hash = md5_hash[n:n+1]\n",
    "    if sliced_hash[0].isdigit():\n",
    "        c = int(sliced_hash[0])\n",
    "        return True, c\n",
    "    \n",
    "    return False, None"
   ]
  },
  {
   "cell_type": "code",
   "execution_count": 5,
   "metadata": {},
   "outputs": [],
   "source": [
    "def get_position(i):\n",
    "    return i % 32"
   ]
  },
  {
   "cell_type": "code",
   "execution_count": 17,
   "metadata": {},
   "outputs": [],
   "source": [
    "def f(start, num):\n",
    "    \n",
    "    password = [\"-\"]*10\n",
    "    pass_set = set(password)\n",
    "    position_set = set()\n",
    "    \n",
    "    password_not_found = True\n",
    "    num_trial = 1\n",
    "    \n",
    "    while password_not_found:\n",
    "        test_string = \"{start}{num}\".format(start=start, num=num_trial)\n",
    "        \n",
    "        test_hash = md5_string(test_string)\n",
    "        \n",
    "        if not correct_n_zeros_in_md5_hash(test_hash, num):\n",
    "            num_trial += 1\n",
    "            continue\n",
    "        \n",
    "        # put char at this position\n",
    "        is_number, number = number_after_zeros_in_md5_hash(test_hash, num)\n",
    "        \n",
    "        if is_number and number not in position_set:\n",
    "            position_set.add(number)\n",
    "            \n",
    "            position_to_get_number = get_position(num_trial)\n",
    "            \n",
    "            collected_char = test_hash[position_to_get_number]\n",
    "            \n",
    "            \n",
    "            password[number] = collected_char\n",
    "            pass_set = set(password)\n",
    "            print(collected_char)\n",
    "            \n",
    "            if '-' not in pass_set:\n",
    "                password_not_found = False\n",
    "        \n",
    "        num_trial += 1\n",
    "        \n",
    "    print(\"\".join(password))"
   ]
  },
  {
   "cell_type": "code",
   "execution_count": null,
   "metadata": {},
   "outputs": [],
   "source": [
    "%time f('artificial-intelligence', 5)"
   ]
  }
 ],
 "metadata": {
  "kernelspec": {
   "display_name": "Python 3",
   "language": "python",
   "name": "python3"
  },
  "language_info": {
   "codemirror_mode": {
    "name": "ipython",
    "version": 3
   },
   "file_extension": ".py",
   "mimetype": "text/x-python",
   "name": "python",
   "nbconvert_exporter": "python",
   "pygments_lexer": "ipython3",
   "version": "3.6.2"
  }
 },
 "nbformat": 4,
 "nbformat_minor": 2
}
