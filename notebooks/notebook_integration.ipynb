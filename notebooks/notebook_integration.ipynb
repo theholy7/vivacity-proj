{
 "cells": [
  {
   "cell_type": "markdown",
   "metadata": {},
   "source": [
    "### Imports"
   ]
  },
  {
   "cell_type": "code",
   "execution_count": null,
   "metadata": {},
   "outputs": [],
   "source": [
    "import sys\n",
    "import os\n",
    "from operator import itemgetter"
   ]
  },
  {
   "cell_type": "code",
   "execution_count": null,
   "metadata": {},
   "outputs": [],
   "source": [
    "# append previous folder to path to import built funtions\n",
    "sys.path.append('../vivacity/')"
   ]
  },
  {
   "cell_type": "code",
   "execution_count": null,
   "metadata": {},
   "outputs": [],
   "source": [
    "import pathfinding\n",
    "import mapcreator"
   ]
  },
  {
   "cell_type": "markdown",
   "metadata": {},
   "source": [
    "### Functions"
   ]
  },
  {
   "cell_type": "markdown",
   "metadata": {},
   "source": [
    "### Setup Area "
   ]
  },
  {
   "cell_type": "code",
   "execution_count": null,
   "metadata": {},
   "outputs": [],
   "source": [
    "coordinates_directory = '../vivacity/test_files/integration_test_files'\n",
    "\n",
    "string_map = mapcreator.parse_and_create_map(coordinates_directory)\n",
    "_map = mapcreator.string_to_map(string_map)\n",
    "\n",
    "all_paths = pathfinding.get_all_paths(0, 2, 5, 2, _map)"
   ]
  },
  {
   "cell_type": "code",
   "execution_count": null,
   "metadata": {},
   "outputs": [],
   "source": [
    "_map = mapcreator.string_to_map(string_map)\n",
    "_map = mapcreator.set_road_on_map(_map, best_score_path)\n",
    "_map = mapcreator.set_start_on_map(_map, 0, 2)\n",
    "_map = mapcreator.set_exit_on_map(_map, 5, 2)"
   ]
  },
  {
   "cell_type": "code",
   "execution_count": null,
   "metadata": {},
   "outputs": [],
   "source": [
    "print(mapcreator.map_to_str(_map))"
   ]
  },
  {
   "cell_type": "code",
   "execution_count": null,
   "metadata": {},
   "outputs": [],
   "source": [
    "all_paths"
   ]
  },
  {
   "cell_type": "code",
   "execution_count": null,
   "metadata": {},
   "outputs": [],
   "source": [
    "def candidate_cells(start_x, start_y, know_path):\n",
    "\n",
    "    path = sorted(know_path, key=itemgetter(2))[::-1]\n",
    "\n",
    "    start_cell = [x for x in path if x[0] == start_x and x[1] == start_y][0]\n",
    "    \n",
    "    path.remove(start_cell)\n",
    "    final_path = [start_cell]\n",
    "    current_cell = start_cell\n",
    "    \n",
    "    candidate_cells = [cell for cell in path if \n",
    "                       (cell[0] == current_cell[0] and\n",
    "                        current_cell[1] - 1 <= cell[1] <= current_cell[1] + 1 and\n",
    "                          cell[2] < current_cell[2]) \n",
    "                       or\n",
    "                       (current_cell[0] - 1 <= cell[0] <= current_cell[0] + 1 \n",
    "                        and cell[1] == current_cell[1] \n",
    "                        and cell[2] < current_cell[2]) ]\n",
    "    \n",
    "    return candidate_cells"
   ]
  },
  {
   "cell_type": "code",
   "execution_count": null,
   "metadata": {},
   "outputs": [],
   "source": [
    "path = sorted(all_paths, key=itemgetter(2))[::-1]\n",
    "current_cell = [x for x in path if x[0] == 0 and x[1] == 2][0]\n",
    "\n",
    "total = 2\n",
    "c = candidate_cells(current_cell[0],current_cell[1], path)\n",
    "best_score_path = [current_cell]\n",
    "while len(c) != 0:\n",
    "    \n",
    "    print(c)\n",
    "    \n",
    "    if len(c) == 1:\n",
    "        current_cell = c[0]\n",
    "        total += c[0][0]+c[0][1]\n",
    "        best_score_path.append(current_cell)\n",
    "    \n",
    "    if len(c) > 1:\n",
    "        temp = {}\n",
    "        for i, n in enumerate(c):\n",
    "            temp[total+n[0]+n[1]] = n\n",
    "        \n",
    "        best = min(temp.keys())\n",
    "        current_cell = temp[best]\n",
    "        best_score_path.append(current_cell)\n",
    "            \n",
    "    \n",
    "    c = candidate_cells(current_cell[0],current_cell[1], path)\n",
    "    \n",
    "return best_score_path"
   ]
  },
  {
   "cell_type": "code",
   "execution_count": null,
   "metadata": {},
   "outputs": [],
   "source": []
  },
  {
   "cell_type": "code",
   "execution_count": null,
   "metadata": {},
   "outputs": [],
   "source": [
    "total"
   ]
  },
  {
   "cell_type": "code",
   "execution_count": null,
   "metadata": {},
   "outputs": [],
   "source": [
    "candidate_cells(0,2, path)"
   ]
  },
  {
   "cell_type": "code",
   "execution_count": null,
   "metadata": {},
   "outputs": [],
   "source": [
    "if len(candidate_cells)==1:\n",
    "    final_path.extend(candidate_cells)\n",
    "    current_cell = candidate_cells[0]\n",
    "    \n",
    "if len(candidate_cells)>1:\n",
    "    "
   ]
  }
 ],
 "metadata": {
  "kernelspec": {
   "display_name": "Python 3",
   "language": "python",
   "name": "python3"
  },
  "language_info": {
   "codemirror_mode": {
    "name": "ipython",
    "version": 3
   },
   "file_extension": ".py",
   "mimetype": "text/x-python",
   "name": "python",
   "nbconvert_exporter": "python",
   "pygments_lexer": "ipython3",
   "version": "3.6.2"
  }
 },
 "nbformat": 4,
 "nbformat_minor": 2
}
