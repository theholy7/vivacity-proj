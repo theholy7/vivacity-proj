{
 "cells": [
  {
   "cell_type": "markdown",
   "metadata": {},
   "source": [
    "### Imports"
   ]
  },
  {
   "cell_type": "code",
   "execution_count": 21,
   "metadata": {},
   "outputs": [],
   "source": [
    "import sys\n",
    "\n",
    "# append previous folder to path to import built funtions\n",
    "sys.path.append('../')\n",
    "\n",
    "from vivacity import mapcreator"
   ]
  },
  {
   "cell_type": "markdown",
   "metadata": {},
   "source": [
    "### Functions"
   ]
  },
  {
   "cell_type": "markdown",
   "metadata": {},
   "source": [
    "#### Helper functions "
   ]
  },
  {
   "cell_type": "code",
   "execution_count": 35,
   "metadata": {},
   "outputs": [],
   "source": [
    "def string_to_map(text):\n",
    "    text = text.strip('\\n')\n",
    "    return text.split('\\n')\n",
    "\n",
    "def set_start_on_map(_map, x, y):\n",
    "\n",
    "    _map[y] = _map[y][:x] + 'S' + _map[y][x + 1:]\n",
    "\n",
    "    return _map\n",
    "\n",
    "def set_exit_on_map(_map, x, y):\n",
    "\n",
    "    _map[y] = _map[y][:x] + 'E' + _map[y][x + 1:]\n",
    "\n",
    "    return _map\n",
    "\n",
    "def is_wall(_map, x, y):\n",
    "    if _map[y][x] == 'x':\n",
    "        return True\n",
    "    return False"
   ]
  },
  {
   "cell_type": "markdown",
   "metadata": {},
   "source": [
    "#### Pathfinding"
   ]
  },
  {
   "cell_type": "code",
   "execution_count": null,
   "metadata": {},
   "outputs": [],
   "source": [
    "def check_surroundings(_map, x,y, path_knowledge=None):\n",
    "    \n",
    "    ymax = len(_map)\n",
    "    xmax = len(_map[0])\n",
    "    \n",
    "    x_to_check = [x-1, x, x+1]\n",
    "    y_to_check = [y-1, y, y+1]\n",
    "    \n",
    "    for i, x_test in enumerate(x_to_check):\n",
    "        if x_test < 0 or x_test >= xmax:\n",
    "            x_to_check.remove(x_test)\n",
    "    \n",
    "    for i, y_test in enumerate(y_to_check):\n",
    "        if y_test < 0 or y_test >= ymax:\n",
    "            y_to_check.remove(y_test)\n",
    "    \n",
    "    if path_knowledge is None:\n",
    "        surroundings=[]\n",
    "        for x in x_test:\n",
    "            for y in y_test:\n",
    "                surroundings.append((x,y,1,))\n",
    "        ## TODO remove walls\n",
    "    else:\n",
    "        for x in x_to_check:\n",
    "            for y in y_to_check:\n",
    "                \n",
    "                no_cell_found\n",
    "                for i, cell in enumerate(path_knowledge):\n",
    "                    if x == cell[0] and y == cell[1]:\n",
    "                        cell[2] += 1\n",
    "                        path_knowledge[i] = cell\n",
    "                # TODO create a flag in case no cell is found\n",
    "                # add a new cell to path_knowledge with that counter\n",
    "                cell = (x,y,1,)\n",
    "                "
   ]
  },
  {
   "cell_type": "markdown",
   "metadata": {},
   "source": [
    "### Setup Area "
   ]
  },
  {
   "cell_type": "code",
   "execution_count": 14,
   "metadata": {},
   "outputs": [],
   "source": [
    "path = '../vivacity/test_files/mapcreator_test_files/'\n",
    "\n",
    "_map_string = mapcreator.parse_and_create_map(path)\n"
   ]
  },
  {
   "cell_type": "code",
   "execution_count": 19,
   "metadata": {},
   "outputs": [],
   "source": [
    "_map = string_to_map(_map_string)\n",
    "_map = set_start_on_map(_map, 0, 2)\n",
    "_map = set_exit_on_map(_map, 4, 2)"
   ]
  },
  {
   "cell_type": "code",
   "execution_count": 20,
   "metadata": {},
   "outputs": [
    {
     "data": {
      "text/plain": [
       "['......', '....x.', 'Sx..Ex']"
      ]
     },
     "execution_count": 20,
     "metadata": {},
     "output_type": "execute_result"
    }
   ],
   "source": [
    "_map"
   ]
  },
  {
   "cell_type": "code",
   "execution_count": 22,
   "metadata": {},
   "outputs": [],
   "source": [
    "a = [1,2]"
   ]
  },
  {
   "cell_type": "code",
   "execution_count": 25,
   "metadata": {},
   "outputs": [],
   "source": [
    "a.remove(1)"
   ]
  },
  {
   "cell_type": "code",
   "execution_count": 26,
   "metadata": {},
   "outputs": [
    {
     "data": {
      "text/plain": [
       "[2]"
      ]
     },
     "execution_count": 26,
     "metadata": {},
     "output_type": "execute_result"
    }
   ],
   "source": [
    "a"
   ]
  },
  {
   "cell_type": "code",
   "execution_count": 29,
   "metadata": {},
   "outputs": [],
   "source": [
    "c = set([(1,2,), (3,2,)])"
   ]
  },
  {
   "cell_type": "code",
   "execution_count": 31,
   "metadata": {},
   "outputs": [
    {
     "data": {
      "text/plain": [
       "{(1, 2), (3, 2)}"
      ]
     },
     "execution_count": 31,
     "metadata": {},
     "output_type": "execute_result"
    }
   ],
   "source": [
    "c"
   ]
  },
  {
   "cell_type": "code",
   "execution_count": 32,
   "metadata": {},
   "outputs": [],
   "source": [
    "c.add((1,2,))"
   ]
  },
  {
   "cell_type": "code",
   "execution_count": 33,
   "metadata": {},
   "outputs": [
    {
     "data": {
      "text/plain": [
       "{(1, 2), (3, 2)}"
      ]
     },
     "execution_count": 33,
     "metadata": {},
     "output_type": "execute_result"
    }
   ],
   "source": [
    "c"
   ]
  },
  {
   "cell_type": "code",
   "execution_count": null,
   "metadata": {},
   "outputs": [],
   "source": []
  }
 ],
 "metadata": {
  "kernelspec": {
   "display_name": "Python 3",
   "language": "python",
   "name": "python3"
  },
  "language_info": {
   "codemirror_mode": {
    "name": "ipython",
    "version": 3
   },
   "file_extension": ".py",
   "mimetype": "text/x-python",
   "name": "python",
   "nbconvert_exporter": "python",
   "pygments_lexer": "ipython3",
   "version": "3.6.2"
  }
 },
 "nbformat": 4,
 "nbformat_minor": 2
}
