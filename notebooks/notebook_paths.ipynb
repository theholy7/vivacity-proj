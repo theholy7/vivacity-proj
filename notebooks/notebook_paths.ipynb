{
 "cells": [
  {
   "cell_type": "markdown",
   "metadata": {},
   "source": [
    "### Imports"
   ]
  },
  {
   "cell_type": "code",
   "execution_count": null,
   "metadata": {},
   "outputs": [],
   "source": [
    "import sys\n",
    "\n",
    "# append previous folder to path to import built funtions\n",
    "sys.path.append('../')\n",
    "\n",
    "from vivacity import mapcreator"
   ]
  },
  {
   "cell_type": "markdown",
   "metadata": {},
   "source": [
    "### Functions"
   ]
  },
  {
   "cell_type": "markdown",
   "metadata": {},
   "source": [
    "#### Helper functions "
   ]
  },
  {
   "cell_type": "code",
   "execution_count": null,
   "metadata": {},
   "outputs": [],
   "source": [
    "def string_to_map(text):\n",
    "    text = text.strip('\\n')\n",
    "    return text.split('\\n')\n",
    "\n",
    "def set_start_on_map(_map, x, y):\n",
    "\n",
    "    _map[y] = _map[y][:x] + 'S' + _map[y][x + 1:]\n",
    "\n",
    "    return _map\n",
    "\n",
    "def set_exit_on_map(_map, x, y):\n",
    "\n",
    "    _map[y] = _map[y][:x] + 'E' + _map[y][x + 1:]\n",
    "\n",
    "    return _map\n",
    "\n",
    "def is_wall(_map, x, y):\n",
    "    if _map[y][x] == 'x':\n",
    "        return True\n",
    "    return False"
   ]
  },
  {
   "cell_type": "markdown",
   "metadata": {},
   "source": [
    "#### Pathfinding"
   ]
  },
  {
   "cell_type": "code",
   "execution_count": null,
   "metadata": {},
   "outputs": [],
   "source": [
    "def valid_surroundings(_map, x,y, counter, known_list = None):\n",
    "    \n",
    "    # get map length\n",
    "    ymax = len(_map)\n",
    "    xmax = len(_map[0])\n",
    "    \n",
    "    # get cells around where we are\n",
    "    # none if they are after the walls\n",
    "    left = (x-1, y, counter +1, ) if x-1 >= 0 else None\n",
    "    right = (x+1 , y, counter+1,) if x+1 < xmax else None\n",
    "    up = (x, y-1, counter+1,) if y-1 >= 0 else None\n",
    "    down = (x, y+1, counter+1,) if y+1 < ymax else None\n",
    "    \n",
    "    #remove nones and remove walls\n",
    "    possible_cells = [x for x in [left, right, up, down] if x is not None\\\n",
    "                      and not is_wall(_map, x[0], x[1])]\n",
    "    print(\"POSSIBLE CELLS {}\".format(possible_cells))\n",
    "    \n",
    "    remove_cells = []\n",
    "    for cell in possible_cells:\n",
    "        for know_cell in know_list:\n",
    "            if cell[0]==know_cell[0] and cell[1]==know_cell[1] \\\n",
    "                and cell[2] >= know_cell[2]:\n",
    "                print(\"REMOVE {}\".format(cell))\n",
    "                remove_cells.append(cell)\n",
    "                \n",
    "    for cell in remove_cells:\n",
    "        possible_cells.remove(cell)\n",
    "    \n",
    "    return possible_cells"
   ]
  },
  {
   "cell_type": "code",
   "execution_count": null,
   "metadata": {},
   "outputs": [],
   "source": [
    "start = (0,2,)\n",
    "know_list = [(4,2,0,)]\n",
    "for x in know_list:\n",
    "    print(x)\n",
    "    possible = valid_surroundings(_map, x[0], x[1], x[2], know_list)\n",
    "    know_list.extend(possible)\n",
    "    \n",
    "    flag_exit = False\n",
    "    for cell in possible:\n",
    "        if cell[0]==start[0] and cell[1]==start[1]:\n",
    "            flag_exit = True\n",
    "            break\n",
    "    \n",
    "    print(know_list)\n",
    "    \n",
    "    if flag_exit:\n",
    "        break\n",
    "    \n",
    "    "
   ]
  },
  {
   "cell_type": "code",
   "execution_count": null,
   "metadata": {},
   "outputs": [],
   "source": [
    "from operator import itemgetter\n",
    "\n",
    "path = sorted(know_list, key=itemgetter(2))[::-1]"
   ]
  },
  {
   "cell_type": "code",
   "execution_count": null,
   "metadata": {},
   "outputs": [],
   "source": [
    "print(path)"
   ]
  },
  {
   "cell_type": "code",
   "execution_count": null,
   "metadata": {},
   "outputs": [],
   "source": [
    "def transverse_path(start_x, start_y, know_path):\n",
    "    \n",
    "    path = sorted(know_path, key=itemgetter(2))[::-1]\n",
    "    \n",
    "    start_cell = [x for x in path if x[0]==start_x and x[1]==start_y][0]\n",
    "    \n",
    "    path.remove(start_cell)\n",
    "    final_path = [start_cell]\n",
    "    \n",
    "    current_cell = start_cell\n",
    "    for cell in path:\n",
    "        if (cell[0]==current_cell[0] and cell[2]<current_cell[2]) or \\\n",
    "        (cell[1]==current_cell[1] and cell[2]<current_cell[2]):\n",
    "            current_cell=cell\n",
    "            final_path.append(cell)\n",
    "    \n",
    "    return final_path"
   ]
  },
  {
   "cell_type": "code",
   "execution_count": null,
   "metadata": {},
   "outputs": [],
   "source": [
    "transverse_path(0,2,know_list)"
   ]
  },
  {
   "cell_type": "markdown",
   "metadata": {},
   "source": [
    "### Setup Area "
   ]
  },
  {
   "cell_type": "code",
   "execution_count": null,
   "metadata": {},
   "outputs": [],
   "source": [
    "path = '../vivacity/test_files/mapcreator_test_files/'\n",
    "\n",
    "_map_string = mapcreator.parse_and_create_map(path)\n"
   ]
  },
  {
   "cell_type": "code",
   "execution_count": null,
   "metadata": {},
   "outputs": [],
   "source": [
    "_map = string_to_map(_map_string)\n",
    "_map = set_start_on_map(_map, 0, 2)\n",
    "_map = set_exit_on_map(_map, 4, 2)"
   ]
  },
  {
   "cell_type": "code",
   "execution_count": null,
   "metadata": {},
   "outputs": [],
   "source": [
    "_map"
   ]
  },
  {
   "cell_type": "code",
   "execution_count": null,
   "metadata": {},
   "outputs": [],
   "source": [
    "a = [[1,2],[2,1]]"
   ]
  },
  {
   "cell_type": "code",
   "execution_count": null,
   "metadata": {},
   "outputs": [],
   "source": [
    "a.remove([1,2])"
   ]
  },
  {
   "cell_type": "code",
   "execution_count": null,
   "metadata": {},
   "outputs": [],
   "source": [
    "a"
   ]
  },
  {
   "cell_type": "code",
   "execution_count": null,
   "metadata": {},
   "outputs": [],
   "source": [
    "[x for x in [(1,2,2,), (1,3,1,) ] if x[0]==1 and x[1]==2]"
   ]
  },
  {
   "cell_type": "code",
   "execution_count": null,
   "metadata": {},
   "outputs": [],
   "source": [
    "a = [None, None]"
   ]
  },
  {
   "cell_type": "code",
   "execution_count": null,
   "metadata": {},
   "outputs": [],
   "source": [
    "a"
   ]
  },
  {
   "cell_type": "code",
   "execution_count": null,
   "metadata": {},
   "outputs": [],
   "source": [
    "a.remove(None)"
   ]
  },
  {
   "cell_type": "code",
   "execution_count": null,
   "metadata": {},
   "outputs": [],
   "source": [
    "a"
   ]
  },
  {
   "cell_type": "code",
   "execution_count": null,
   "metadata": {},
   "outputs": [],
   "source": [
    "[x for x in [(1,2,3,)]]"
   ]
  },
  {
   "cell_type": "code",
   "execution_count": null,
   "metadata": {},
   "outputs": [],
   "source": []
  }
 ],
 "metadata": {
  "kernelspec": {
   "display_name": "Python 3",
   "language": "python",
   "name": "python3"
  },
  "language_info": {
   "codemirror_mode": {
    "name": "ipython",
    "version": 3
   },
   "file_extension": ".py",
   "mimetype": "text/x-python",
   "name": "python",
   "nbconvert_exporter": "python",
   "pygments_lexer": "ipython3",
   "version": "3.6.2"
  }
 },
 "nbformat": 4,
 "nbformat_minor": 2
}
