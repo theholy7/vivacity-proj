{
 "cells": [
  {
   "cell_type": "markdown",
   "metadata": {},
   "source": [
    "### Imports"
   ]
  },
  {
   "cell_type": "code",
   "execution_count": 11,
   "metadata": {},
   "outputs": [],
   "source": [
    "import glob\n",
    "import re"
   ]
  },
  {
   "cell_type": "markdown",
   "metadata": {},
   "source": [
    "### Functions"
   ]
  },
  {
   "cell_type": "code",
   "execution_count": 2,
   "metadata": {},
   "outputs": [],
   "source": [
    "def get_filelist(path):\n",
    "    if '/' != path[-1]:\n",
    "        path += '/'\n",
    "    return glob.glob(path + '*.txt')"
   ]
  },
  {
   "cell_type": "code",
   "execution_count": 9,
   "metadata": {},
   "outputs": [],
   "source": [
    "def parse_file(path):\n",
    "    coordinates = []\n",
    "    \n",
    "    with open(path, 'r') as f:\n",
    "        for line in f.readlines():\n",
    "            line = line.strip().strip(',')\n",
    "            coordinates.extend(line.split(','))\n",
    "            \n",
    "    return coordinates"
   ]
  },
  {
   "cell_type": "code",
   "execution_count": 53,
   "metadata": {},
   "outputs": [],
   "source": [
    "def parse_coordinates(coord_string):\n",
    "    rg = re.compile(r'(?P<x>(?<=x)\\d+).(?P<y>(?<=y)\\d+)')\n",
    "    match = re.search(rg, coord_string)\n",
    "\n",
    "    return (int(match.group('x')), int(match.group('y')))"
   ]
  },
  {
   "cell_type": "code",
   "execution_count": 29,
   "metadata": {},
   "outputs": [],
   "source": [
    "def create_map(x,y):\n",
    "    horizontal = \".\"*x\n",
    "    created_map = [horizontal]*y\n",
    "    return created_map"
   ]
  },
  {
   "cell_type": "code",
   "execution_count": 41,
   "metadata": {},
   "outputs": [],
   "source": [
    "def set_cross_on_map(_map, x,y):\n",
    "    \n",
    "    _map[y] = _map[y][:x]+'x'+_map[y][x+1:]\n",
    "    \n",
    "    return _map"
   ]
  },
  {
   "cell_type": "code",
   "execution_count": 66,
   "metadata": {},
   "outputs": [],
   "source": [
    "def map_to_str(_map):\n",
    "    return \"\\n\".join(_map)+'\\n'"
   ]
  },
  {
   "cell_type": "code",
   "execution_count": 64,
   "metadata": {},
   "outputs": [],
   "source": [
    "def f():\n",
    "    filelist = get_filelist('../test_files/mapcreator_test_files/')\n",
    "    \n",
    "    total_coordinates = []\n",
    "    for filename in filelist:\n",
    "        file_coord = parse_file(filename)\n",
    "        total_coordinates += file_coord\n",
    "        \n",
    "    clean_coord = []\n",
    "    xmax=0\n",
    "    ymax=0\n",
    "    for xy in total_coordinates:\n",
    "        x,y = parse_coordinates(xy)\n",
    "        if x >= xmax:\n",
    "            xmax = x+1\n",
    "        if y >= ymax:\n",
    "            ymax = y+1\n",
    "        \n",
    "        clean_coord.append((x,y,))\n",
    "            \n",
    "    _map = create_map(xmax, ymax)\n",
    "    \n",
    "    for x, y in clean_coord:\n",
    "        _map = set_cross_on_map(_map, x, y)\n",
    "        \n",
    "    return map_to_str(_map)"
   ]
  },
  {
   "cell_type": "code",
   "execution_count": 65,
   "metadata": {},
   "outputs": [
    {
     "data": {
      "text/plain": [
       "'......\\n....x.\\n.x...x'"
      ]
     },
     "execution_count": 65,
     "metadata": {},
     "output_type": "execute_result"
    }
   ],
   "source": [
    "f()"
   ]
  },
  {
   "cell_type": "code",
   "execution_count": null,
   "metadata": {},
   "outputs": [],
   "source": []
  }
 ],
 "metadata": {
  "kernelspec": {
   "display_name": "Python 3",
   "language": "python",
   "name": "python3"
  },
  "language_info": {
   "codemirror_mode": {
    "name": "ipython",
    "version": 3
   },
   "file_extension": ".py",
   "mimetype": "text/x-python",
   "name": "python",
   "nbconvert_exporter": "python",
   "pygments_lexer": "ipython3",
   "version": "3.6.2"
  }
 },
 "nbformat": 4,
 "nbformat_minor": 2
}
